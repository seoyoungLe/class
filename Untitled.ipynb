{
 "cells": [
  {
   "cell_type": "code",
   "execution_count": 3,
   "metadata": {},
   "outputs": [],
   "source": [
    "#2019.04.11 R 수업"
   ]
  },
  {
   "cell_type": "code",
   "execution_count": null,
   "metadata": {},
   "outputs": [],
   "source": [
    "# out of 10 flips, 2 are tails \n",
    "# H0 : this coin is fair, phead = 0.5 (귀무가설)\n",
    "# H1 : This coin is fiar, phead != 0.5 (대립가설)\n",
    "# 예를 들어, 동전을 던지면 앞뒷면이 5:5(10번)나오는대, 앞면 8면 뒷면 2면 나오면 이 동전을 채택 할 것 인가, 아닌가? \n",
    "# 이게 의미 있는 숫자인지/아닌지 결정을 해야 한다. (귀무가설/ 대립가설)\n",
    "# 2가지 가설 중에 맞는지 아닌지 가설에 대해서 검정/test해서 가설을 accept할 것인지 알 수 있다. (참/거짓)\n",
    "# 검정: T-test ... 할 것 인지, 통계검정을 한다. 상황에 적절한 검정방법 선택하고 significance level alpha를 정한다.\n",
    "# (전체가 100이면 거기서 5%만 되어도 아니다라고 할 것 인지...) 귀무가설이 맞는지 대립가설이 맞는지 확인\n",
    "\n",
    "# 예1) 대학언생 평균 월급 (주장 : 대학원생 평균 월급 100만원)\n",
    "# H0 : u = 100 만원(귀무가설)     H1:u > 100만원(대립가설)   (t-test해서 검정결과 .)\n",
    "#  동전 던지지 같은 경우 fair / not fair 만 검정하면 되기 때문에 != 였고(대립가설이)\n",
    "# 월급이 100만원보다 많다는 가설을 말할고 싶어서  대립가설이 > 이다. (일반적으로 귀무가설과 반대된다는 것이 굳이 !=이 아니다.)\n",
    "# 때에 따라서 대립가설은 다르게 설정 할 수 있다. \n",
    "# 귀무가설과 대립가설 설정\n",
    "\n"
   ]
  },
  {
   "cell_type": "code",
   "execution_count": 5,
   "metadata": {},
   "outputs": [],
   "source": [
    "# 가설 설정 (단측검정 / 양측검정)\n",
    "# 양측검정 :  100만원보다 크다라는 대립가설을 설정시, 월급평균이 50만원이면 <100이라는 대립가설을 기각해야 한다. \n",
    "          #한쪽만 할 것 인지, 크든작든 양쪽모두 확인 할 것인지에 따라 단측/ 양측검정이 된다. \n",
    "# 박스안에 흰공/검은공이 있는대, 무작위로 10개를 추출 해서 흰/검은공의 비율을 역으로 알 수 있다. (표본에 대한 값으로 한다.)\n",
    "# 가설 검정 \n",
    "# 흰공 : 검은공 = 5 : 5 일 경우 but 흰 / 검은공 비율이 !5:5가 아니라는 주장 : p = x/10 일 경우, 10번 공을 뽑았는대 흰공이 1번밖에 안 뽑힐 경\n",
    "# 어느정도가 되어야지 신뢰수준에서 벗어나지 않은가?  \n",
    "# p value < 0.05 귀무가설이 '참'일 경우라는 가정이다. 실험한 값이 신뢰수준을 벗어날 확률이 0~5%이다.  \n",
    "\n",
    "# 정규분포표  \n"
   ]
  },
  {
   "cell_type": "code",
   "execution_count": 6,
   "metadata": {},
   "outputs": [],
   "source": [
    "# p hat? 이란"
   ]
  },
  {
   "cell_type": "code",
   "execution_count": 7,
   "metadata": {},
   "outputs": [],
   "source": [
    "# 통계 검정은 예외적인 것이 있기때문에 완벽하지 않다. \n",
    "# 우연히 H0를 기각 할 수 도 있기 때문에 통계에서 error가 될 수 있다. (신뢰 수준을 95%가 아니라면 그 값이 유의하게 다르다고 한다면 결과가 받아 들이기\n",
    "# 힘들 것이다. ) \n",
    "#"
   ]
  },
  {
   "cell_type": "code",
   "execution_count": 8,
   "metadata": {},
   "outputs": [
    {
     "data": {
      "text/plain": [
       "\n",
       "\tExact binomial test\n",
       "\n",
       "data:  8 and 10\n",
       "number of successes = 8, number of trials = 10, p-value = 0.1094\n",
       "alternative hypothesis: true probability of success is not equal to 0.5\n",
       "95 percent confidence interval:\n",
       " 0.4439045 0.9747893\n",
       "sample estimates:\n",
       "probability of success \n",
       "                   0.8 \n"
      ]
     },
     "metadata": {},
     "output_type": "display_data"
    }
   ],
   "source": [
    "# 동전이 fair한가? yes/no와 같이 2가지 test일경우 이항검정/이항분포이라고한다. 가장쉽고 많이 쓰인다. 통계검정방법형식 \" 해당검정이름.test\"이다.  \n",
    "binom.test(8,10, p=0.5) # 10번 시험했는대 8번 x에 해당하는 값이 나왔다. 앞면과 뒷면으로 나뉘어져 있으니까 p=0.5이다. "
   ]
  },
  {
   "cell_type": "code",
   "execution_count": 9,
   "metadata": {},
   "outputs": [],
   "source": [
    "# 귀무가설이 참이라고 했을때, 10번던졌을때 8나오는 것이 0.1094 확률로 나온다. (우연히 발생할 확률 : 낮은 거니까 유의하게 차이가 있다고 판단가능)\n",
    "# 신뢰구간이 0.44 ~ 0.974 라는 것을 알 수 있다. \n"
   ]
  },
  {
   "cell_type": "code",
   "execution_count": 11,
   "metadata": {},
   "outputs": [
    {
     "data": {
      "text/plain": [
       "\n",
       "\tExact binomial test\n",
       "\n",
       "data:  2 and 10\n",
       "number of successes = 2, number of trials = 10, p-value = 1\n",
       "alternative hypothesis: true probability of success is not equal to 0.2\n",
       "95 percent confidence interval:\n",
       " 0.02521073 0.55609546\n",
       "sample estimates:\n",
       "probability of success \n",
       "                   0.2 \n"
      ]
     },
     "metadata": {},
     "output_type": "display_data"
    }
   ],
   "source": [
    "binom.test(2,10, p= 0.2)"
   ]
  },
  {
   "cell_type": "code",
   "execution_count": 14,
   "metadata": {},
   "outputs": [
    {
     "data": {
      "text/plain": [
       "\n",
       "\tExact binomial test\n",
       "\n",
       "data:  20 and 100\n",
       "number of successes = 20, number of trials = 100, p-value = 1\n",
       "alternative hypothesis: true probability of success is not equal to 0.2\n",
       "95 percent confidence interval:\n",
       " 0.1266556 0.2918427\n",
       "sample estimates:\n",
       "probability of success \n",
       "                   0.2 \n"
      ]
     },
     "metadata": {},
     "output_type": "display_data"
    }
   ],
   "source": [
    "binom.test(20,100, p= 0.2)"
   ]
  },
  {
   "cell_type": "code",
   "execution_count": null,
   "metadata": {},
   "outputs": [],
   "source": []
  }
 ],
 "metadata": {
  "kernelspec": {
   "display_name": "R",
   "language": "R",
   "name": "ir"
  },
  "language_info": {
   "codemirror_mode": "r",
   "file_extension": ".r",
   "mimetype": "text/x-r-source",
   "name": "R",
   "pygments_lexer": "r",
   "version": "3.5.1"
  }
 },
 "nbformat": 4,
 "nbformat_minor": 2
}
